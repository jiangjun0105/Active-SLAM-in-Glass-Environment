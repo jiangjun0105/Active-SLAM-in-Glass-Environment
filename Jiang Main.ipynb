{
 "cells": [
  {
   "cell_type": "code",
   "execution_count": 11,
   "metadata": {
    "collapsed": false,
    "deletable": true,
    "editable": true
   },
   "outputs": [],
   "source": [
    "import matplotlib\n",
    "matplotlib.use('qt5agg')\n",
    "import matplotlib.pyplot as plt"
   ]
  },
  {
   "cell_type": "code",
   "execution_count": 12,
   "metadata": {
    "collapsed": false,
    "deletable": true,
    "editable": true
   },
   "outputs": [],
   "source": [
    "from __future__ import print_function\n",
    "import sys\n",
    "#standard libraries\n",
    "import numpy as np\n",
    "import matplotlib.pyplot as plt\n",
    "import matplotlib as mpl\n",
    "import time\n",
    "#Ros related libraries\n",
    "import yaml\n",
    "import rospy\n",
    "import rosbag\n",
    "import glob # for open all files\n",
    "import re"
   ]
  },
  {
   "cell_type": "code",
   "execution_count": 78,
   "metadata": {
    "collapsed": false,
    "deletable": true,
    "editable": true
   },
   "outputs": [
    {
     "name": "stdout",
     "output_type": "stream",
     "text": [
      "{0: '/home/jiang/Desktop/Exper10F2017-03-22/00.bag', 130: '/home/jiang/Desktop/Exper10F2017-03-22/130.bag', 260: '/home/jiang/Desktop/Exper10F2017-03-22/260.bag', 390: '/home/jiang/Desktop/Exper10F2017-03-22/390.bag', 520: '/home/jiang/Desktop/Exper10F2017-03-22/520.bag', 10: '/home/jiang/Desktop/Exper10F2017-03-22/10.bag', 140: '/home/jiang/Desktop/Exper10F2017-03-22/140.bag', 270: '/home/jiang/Desktop/Exper10F2017-03-22/270.bag', 400: '/home/jiang/Desktop/Exper10F2017-03-22/400.bag', 530: '/home/jiang/Desktop/Exper10F2017-03-22/530.bag', 20: '/home/jiang/Desktop/Exper10F2017-03-22/20.bag', 150: '/home/jiang/Desktop/Exper10F2017-03-22/150.bag', 280: '/home/jiang/Desktop/Exper10F2017-03-22/280.bag', 410: '/home/jiang/Desktop/Exper10F2017-03-22/410.bag', 540: '/home/jiang/Desktop/Exper10F2017-03-22/540.bag', 30: '/home/jiang/Desktop/Exper10F2017-03-22/30.bag', 160: '/home/jiang/Desktop/Exper10F2017-03-22/160.bag', 290: '/home/jiang/Desktop/Exper10F2017-03-22/290.bag', 420: '/home/jiang/Desktop/Exper10F2017-03-22/420.bag', 40: '/home/jiang/Desktop/Exper10F2017-03-22/40.bag', 170: '/home/jiang/Desktop/Exper10F2017-03-22/170.bag', 300: '/home/jiang/Desktop/Exper10F2017-03-22/300.bag', 430: '/home/jiang/Desktop/Exper10F2017-03-22/430.bag', 50: '/home/jiang/Desktop/Exper10F2017-03-22/50.bag', 180: '/home/jiang/Desktop/Exper10F2017-03-22/180.bag', 310: '/home/jiang/Desktop/Exper10F2017-03-22/310.bag', 440: '/home/jiang/Desktop/Exper10F2017-03-22/440.bag', 60: '/home/jiang/Desktop/Exper10F2017-03-22/60.bag', 190: '/home/jiang/Desktop/Exper10F2017-03-22/190.bag', 320: '/home/jiang/Desktop/Exper10F2017-03-22/320.bag', 450: '/home/jiang/Desktop/Exper10F2017-03-22/450.bag', 70: '/home/jiang/Desktop/Exper10F2017-03-22/70.bag', 200: '/home/jiang/Desktop/Exper10F2017-03-22/200.bag', 330: '/home/jiang/Desktop/Exper10F2017-03-22/330.bag', 460: '/home/jiang/Desktop/Exper10F2017-03-22/460.bag', 80: '/home/jiang/Desktop/Exper10F2017-03-22/80.bag', 210: '/home/jiang/Desktop/Exper10F2017-03-22/210.bag', 340: '/home/jiang/Desktop/Exper10F2017-03-22/340.bag', 470: '/home/jiang/Desktop/Exper10F2017-03-22/470.bag', 90: '/home/jiang/Desktop/Exper10F2017-03-22/90.bag', 220: '/home/jiang/Desktop/Exper10F2017-03-22/220.bag', 350: '/home/jiang/Desktop/Exper10F2017-03-22/350.bag', 480: '/home/jiang/Desktop/Exper10F2017-03-22/480.bag', 100: '/home/jiang/Desktop/Exper10F2017-03-22/100.bag', 230: '/home/jiang/Desktop/Exper10F2017-03-22/230.bag', 360: '/home/jiang/Desktop/Exper10F2017-03-22/360.bag', 490: '/home/jiang/Desktop/Exper10F2017-03-22/490.bag', 110: '/home/jiang/Desktop/Exper10F2017-03-22/110.bag', 240: '/home/jiang/Desktop/Exper10F2017-03-22/240.bag', 370: '/home/jiang/Desktop/Exper10F2017-03-22/370.bag', 500: '/home/jiang/Desktop/Exper10F2017-03-22/500.bag', 120: '/home/jiang/Desktop/Exper10F2017-03-22/120.bag', 250: '/home/jiang/Desktop/Exper10F2017-03-22/250.bag', 380: '/home/jiang/Desktop/Exper10F2017-03-22/380.bag', 510: '/home/jiang/Desktop/Exper10F2017-03-22/510.bag'}\n"
     ]
    }
   ],
   "source": [
    "# Open all the bag files and save into dictionaries\n",
    "\n",
    "input_bags=dict()\n",
    "# idata=dict()\n",
    "# rdata=dict()\n",
    "# idata_std=dict()\n",
    "# rdata_std=dict()\n",
    "names=[]\n",
    "scans=dict()\n",
    "\n",
    "angle_min = -2.35619449615\n",
    "angle_max = 2.35619449615\n",
    "angle_increment = 0.00436332309619\n",
    "theta = np.arange(angle_min, angle_max, angle_increment)\n",
    "\n",
    "\n",
    "path = '/home/jiang/Desktop/Exper10F2017-03-22/*.bag'   \n",
    "files=glob.glob(path)   \n",
    "for file in files:\n",
    "    try:\n",
    "        name = int(file[39:-4])\n",
    "    except ValueError:\n",
    "        name = file[39:-4]\n",
    "    names.append(name)\n",
    "    input_bags[name]=file\n",
    "names.sort()\n",
    "print(input_bags)"
   ]
  },
  {
   "cell_type": "code",
   "execution_count": 98,
   "metadata": {
    "collapsed": false,
    "deletable": true,
    "editable": true,
    "scrolled": true
   },
   "outputs": [
    {
     "name": "stdout",
     "output_type": "stream",
     "text": [
      "(3887.0, 3830.0, 3873.0, 3886.0, 3840.0, 3937.0, 3900.0, 3928.0, 3997.0, 3986.0, 4014.0, 3999.0, 3944.0, 4015.0, 3940.0, 3801.0, 3848.0, 3804.0, 3843.0, 3841.0, 3858.0, 3785.0, 3757.0, 3785.0, 3774.0, 3807.0, 3775.0, 3730.0, 3708.0, 3734.0, 3700.0, 3704.0, 3709.0, 3683.0, 3667.0, 3682.0, 3699.0, 3613.0, 3195.0, 2734.0, 2754.0, 2846.0, 2699.0, 2676.0, 2636.0, 2643.0, 2639.0, 2647.0, 2614.0, 2623.0, 2630.0, 2617.0, 2637.0, 2598.0, 2593.0, 2616.0, 2772.0, 3396.0, 3622.0, 3415.0, 3384.0, 3241.0, 2569.0, 2483.0, 2416.0, 2658.0, 2935.0, 2928.0, 2786.0, 3008.0, 2919.0, 2596.0, 2447.0, 2447.0, 2470.0, 2508.0, 2484.0, 2480.0, 2474.0, 2489.0, 2476.0, 2461.0, 2465.0, 2457.0, 2475.0, 2488.0, 2521.0, 2453.0, 2531.0, 2292.0, 2501.0, 2574.0, 2548.0, 2565.0, 2583.0, 2565.0, 2603.0, 2552.0, 2617.0, 2585.0, 2574.0, 1896.0, 2107.0, 2141.0, 2028.0, 2007.0, 1985.0, 1950.0, 1943.0, 1943.0, 1928.0, 1785.0, 1768.0, 1778.0, 1621.0, 1657.0, 1485.0, 1442.0, 1361.0, 1339.0, 1320.0, 1301.0, 1377.0, 2367.0, 1269.0, 1118.0, 841.0, 1255.0, 2091.0, 2415.0, 2082.0, 2260.0, 2410.0, 2484.0, 2480.0, 2417.0, 2408.0, 2407.0, 2428.0, 2434.0, 2424.0, 2470.0, 2480.0, 2462.0, 2459.0, 2464.0, 2447.0, 2441.0, 2444.0, 2423.0, 2314.0, 262.0, 115.0, 1552.0, 1555.0, 1703.0, 1752.0, 1778.0, 1855.0, 1943.0, 101.0, 2007.0, 2062.0, 2182.0, 2190.0, 2203.0, 2232.0, 2265.0, 2325.0, 2415.0, 2465.0, 2483.0, 2551.0, 2655.0, 2676.0, 2756.0, 2927.0, 3129.0, 3438.0, 4088.0, 15376.0, 16590.0, 13352.0, 3748.0, 3359.0, 3099.0, 2922.0, 2823.0, 2723.0, 2612.0, 2527.0, 2484.0, 2464.0, 2435.0, 2230.0, 845.0, 1806.0, 2560.0, 2449.0, 2259.0, 789.0, 844.0, 819.0, 700.0, 711.0, 488.0, 134.0, 1235.0, 128.0, 115.0, 166.0, 113.0, 1117.0, 101.0, 1051.0, 121.0, 136.0, 938.0, 895.0, 120.0, 346.0, 603.0, 695.0, 103.0, 120.0, 121.0, 124.0, 146.0, 147.0, 652.0, 633.0, 615.0, 359.0, 411.0, 303.0, 248.0, 229.0, 178.0, 199.0, 143.0, 105.0, 107.0, 125.0, 116.0, 137.0, 162.0, 882.0, 932.0, 1054.0, 1352.0, 2425.0, 3081.0, 3346.0, 3118.0, 3384.0, 3170.0, 2520.0, 2859.0, 3854.0, 4675.0, 5059.0, 5604.0, 4897.0, 4134.0, 4134.0, 3924.0, 3917.0, 3779.0, 3697.0, 3523.0, 3570.0, 3789.0, 3949.0, 4056.0, 3386.0, 252.0, 471.0, 458.0, 456.0, 514.0, 434.0, 484.0, 447.0, 459.0, 478.0, 540.0, 489.0, 464.0, 481.0, 497.0, 508.0, 447.0, 428.0, 488.0, 459.0, 420.0, 478.0, 421.0, 204.0, 176.0, 196.0, 151.0, 127.0, 134.0, 111.0, 181.0, 162.0, 252.0, 420.0, 401.0, 425.0, 371.0, 360.0, 360.0, 398.0, 363.0, 284.0, 161.0, 172.0, 175.0, 177.0, 159.0, 173.0, 103.0, 114.0, 134.0, 213.0, 227.0, 0.0, 0.0, 0.0, 0.0, 0.0, 0.0, 0.0, 0.0, 0.0, 0.0, 0.0, 0.0, 0.0, 0.0, 0.0, 0.0, 0.0, 0.0, 0.0, 0.0, 0.0, 0.0, 0.0, 0.0, 0.0, 0.0, 0.0, 0.0, 0.0, 0.0, 0.0, 0.0, 0.0, 0.0, 0.0, 0.0, 0.0, 0.0, 0.0, 0.0, 0.0, 0.0, 0.0, 0.0, 0.0, 0.0, 0.0, 0.0, 0.0, 0.0, 0.0, 0.0, 112.0, 202.0, 367.0, 314.0, 624.0, 2140.0, 2626.0, 2510.0, 2818.0, 3015.0, 2774.0, 2661.0, 2692.0, 2703.0, 2772.0, 2965.0, 3177.0, 3310.0, 3155.0, 2809.0, 2326.0, 2124.0, 1665.0, 428.0, 0.0, 0.0, 0.0, 0.0, 0.0, 0.0, 0.0, 0.0, 0.0, 0.0, 0.0, 0.0, 0.0, 0.0, 0.0, 0.0, 0.0, 0.0, 0.0, 0.0, 0.0, 0.0, 0.0, 0.0, 0.0, 0.0, 0.0, 0.0, 0.0, 0.0, 185.0, 445.0, 307.0, 280.0, 414.0, 480.0, 661.0, 2220.0, 2482.0, 2456.0, 2888.0, 3058.0, 2910.0, 2913.0, 2978.0, 2938.0, 3032.0, 2907.0, 2422.0, 122.0, 476.0, 522.0, 554.0, 575.0, 549.0, 558.0, 543.0, 599.0, 610.0, 557.0, 483.0, 235.0, 587.0, 777.0, 2013.0, 2473.0, 2560.0, 2943.0, 3066.0, 2977.0, 3021.0, 2969.0, 2863.0, 2401.0, 336.0, 468.0, 546.0, 590.0, 544.0, 417.0, 2385.0, 2438.0, 2614.0, 2803.0, 2867.0, 2765.0, 2792.0, 2555.0, 1524.0, 301.0, 219.0, 725.0, 1465.0, 2279.0, 2443.0, 2191.0, 1636.0, 1608.0, 1653.0, 1670.0, 1820.0, 2175.0, 2338.0, 2284.0, 2281.0, 2280.0, 2262.0, 2072.0, 1621.0, 1174.0, 220.0, 1972.0, 3526.0, 2703.0, 3525.0, 2349.0, 3330.0, 2338.0, 2766.0, 1199.0, 616.0, 664.0, 872.0, 953.0, 758.0, 345.0, 0.0, 244.0, 314.0, 146.0, 108.0, 0.0, 166.0, 377.0, 844.0, 1133.0, 1290.0, 1296.0, 1282.0, 1216.0, 1063.0, 638.0, 530.0, 773.0, 837.0, 398.0, 122.0, 165.0, 0.0, 0.0, 465.0, 791.0, 691.0, 621.0, 651.0, 389.0, 0.0, 0.0, 0.0, 315.0, 477.0, 511.0, 650.0, 1240.0, 1718.0, 1958.0, 2033.0, 2009.0, 1932.0, 1798.0, 1808.0, 1824.0, 1846.0, 1854.0, 1865.0, 1817.0, 1873.0, 1818.0, 1814.0, 1834.0, 1816.0, 1799.0, 1826.0, 1683.0, 1099.0, 1909.0, 2005.0, 2029.0, 2091.0, 2092.0, 2155.0, 2184.0, 2231.0, 2238.0, 2240.0, 2256.0, 2308.0, 2344.0, 2319.0, 2377.0, 2368.0, 2413.0, 2430.0, 2438.0, 2458.0, 2506.0, 2516.0, 2514.0, 2543.0, 2533.0, 2574.0, 2567.0, 2590.0, 2593.0, 2640.0, 2618.0, 2636.0, 2676.0, 2682.0, 2674.0, 2717.0, 2707.0, 2720.0, 2703.0, 2782.0, 2780.0, 2803.0, 2810.0, 2824.0, 2836.0, 2831.0, 2847.0, 2878.0, 2882.0, 2884.0, 2869.0, 2945.0, 2937.0, 2967.0, 2977.0, 2940.0, 2959.0, 2991.0, 2992.0, 2982.0, 3038.0, 3041.0, 3076.0, 3071.0, 3091.0, 3083.0, 3101.0, 3115.0, 3107.0, 3107.0, 3139.0, 3191.0, 3170.0, 3172.0, 3168.0, 3188.0, 3236.0, 3193.0, 3203.0, 3270.0, 3228.0, 3259.0, 3185.0, 3260.0, 3259.0, 3273.0, 3312.0, 3290.0, 3381.0, 3414.0, 3473.0, 3513.0, 3554.0, 3511.0, 3568.0, 3557.0, 3527.0, 3551.0, 3564.0, 3560.0, 3545.0, 3526.0, 3531.0, 3501.0, 3487.0, 3533.0, 3505.0, 3490.0, 3367.0, 3351.0, 3243.0, 3265.0, 3303.0, 3316.0, 3274.0, 3304.0, 3275.0, 3284.0, 3330.0, 3281.0, 3312.0, 3278.0, 3268.0, 3250.0, 3268.0, 3280.0, 3239.0, 3188.0, 3223.0, 3209.0, 3237.0, 3224.0, 3218.0, 3173.0, 3203.0, 3180.0, 3201.0, 3199.0, 3159.0, 3151.0, 3124.0, 3146.0, 3136.0, 3104.0, 3126.0, 3124.0, 3103.0, 3100.0, 3104.0, 3096.0, 3074.0, 3093.0, 3067.0, 3062.0, 3047.0, 3055.0, 3059.0, 3083.0, 3018.0, 3012.0, 2988.0, 3019.0, 2983.0, 2979.0, 2970.0, 2980.0, 2951.0, 2992.0, 2952.0, 2944.0, 2965.0, 3013.0, 2968.0, 3001.0, 3012.0, 2977.0, 2958.0, 2990.0, 2968.0, 2940.0, 2944.0, 2921.0, 2910.0, 2900.0, 2934.0, 2934.0, 2886.0, 2892.0, 2845.0, 2866.0, 2857.0, 2891.0, 2990.0, 3163.0, 3190.0, 3141.0, 3118.0, 3153.0, 3130.0, 3148.0, 3100.0, 2607.0, 2158.0, 2611.0, 2902.0, 2927.0, 2896.0, 2932.0, 2931.0, 2910.0, 2967.0, 2986.0, 2987.0, 2994.0, 3063.0, 3026.0, 3042.0, 3016.0, 3069.0, 3071.0, 3051.0, 3058.0, 3043.0, 3048.0, 3082.0, 3044.0, 3041.0, 3049.0, 3033.0, 3086.0, 3069.0, 3081.0, 3055.0, 3100.0, 3113.0, 3083.0, 3088.0, 3103.0, 3102.0, 3127.0, 3097.0, 3132.0, 3141.0, 3108.0, 3102.0, 3102.0, 3133.0, 3142.0, 3164.0, 3183.0, 3155.0, 3138.0, 3120.0, 3116.0, 3156.0, 3170.0, 3172.0, 3164.0, 3146.0, 3142.0, 3169.0, 3154.0, 3168.0, 3192.0, 3168.0, 3146.0, 3182.0, 3202.0, 3195.0, 3151.0, 3133.0, 3123.0, 3126.0, 3140.0, 3149.0, 3131.0, 3188.0, 3129.0, 3141.0, 3172.0, 3079.0, 3188.0, 3136.0, 3132.0, 3146.0, 3200.0, 3204.0, 3210.0, 3227.0, 3221.0, 3235.0, 3211.0, 3216.0, 3236.0, 3224.0, 3250.0, 3188.0, 3234.0, 3217.0, 3219.0, 3186.0, 3213.0, 3210.0, 3205.0, 3250.0, 3207.0, 3203.0, 3213.0, 3221.0, 3231.0, 3223.0, 3230.0, 3240.0, 3210.0, 3221.0, 3240.0, 3204.0, 3244.0, 3211.0, 3244.0, 3217.0, 3225.0, 3192.0, 3204.0, 3217.0, 3223.0, 3207.0, 3226.0, 3221.0, 3233.0, 3225.0, 3193.0, 3203.0, 3213.0, 3183.0, 3208.0, 3212.0, 3203.0, 3204.0, 3213.0, 3198.0, 3200.0, 3187.0, 3201.0, 3212.0, 3199.0, 3232.0, 3186.0, 3206.0, 3230.0, 3179.0, 3147.0, 3232.0, 3182.0, 3182.0, 3156.0, 3215.0, 3194.0, 3219.0, 3193.0, 3168.0, 3152.0, 2787.0, 2345.0, 2360.0, 3113.0, 3349.0, 3341.0, 3350.0, 3364.0, 3329.0, 2953.0, 2805.0, 2775.0, 2751.0, 2787.0, 2752.0, 2785.0, 2777.0, 2812.0, 2814.0, 2805.0, 2848.0, 2881.0, 2907.0, 3021.0, 3446.0, 3534.0, 3525.0, 3524.0, 3536.0, 3543.0, 3538.0, 3551.0, 3554.0, 3558.0, 3512.0, 3505.0, 3536.0, 3509.0, 3507.0, 3490.0, 3448.0, 2969.0, 2356.0, 1632.0, 1818.0, 1714.0, 1592.0, 2367.0, 3050.0, 2211.0, 1526.0, 1513.0, 1855.0, 2334.0, 2751.0, 3132.0, 3387.0, 3364.0, 3277.0, 2822.0, 2987.0, 3332.0, 3391.0, 3377.0, 3372.0, 3377.0, 3381.0, 3381.0, 3347.0, 3363.0, 3350.0, 3304.0, 3291.0, 3358.0, 3349.0, 3351.0, 3363.0, 3296.0, 3321.0, 3317.0, 3288.0, 3249.0, 3315.0, 3315.0, 3270.0, 3298.0, 3279.0, 3250.0, 3244.0, 3250.0, 3225.0, 3231.0, 3250.0, 3215.0, 3204.0, 3199.0, 3196.0, 3180.0, 3189.0, 3202.0, 3194.0, 3173.0, 3205.0, 3213.0, 3189.0, 3081.0, 3074.0, 3072.0, 3083.0, 3066.0, 3065.0, 3058.0, 3012.0, 2996.0, 2882.0, 2763.0, 2932.0, 2788.0, 2630.0, 2562.0, 2589.0, 2562.0, 2545.0, 2549.0, 2514.0, 2519.0, 2493.0, 2486.0, 2475.0, 2504.0)\n"
     ]
    }
   ],
   "source": [
    "n = 0\n",
    "for topic, msg, t in rosbag.Bag(input_bags[150]):\n",
    "    if topic == '/last' and n == 0:\n",
    "        print(msg.intensities)\n",
    "        n+=1\n"
   ]
  },
  {
   "cell_type": "code",
   "execution_count": 119,
   "metadata": {
    "collapsed": false,
    "deletable": true,
    "editable": true
   },
   "outputs": [],
   "source": [
    "for key, value in input_bags.iteritems():\n",
    "    #print(key, value)\n",
    "    intensities_f=[]\n",
    "    ranges_f=[]\n",
    "    intensities_s=[]\n",
    "    ranges_s=[]\n",
    "    idata_f = []\n",
    "    \n",
    "    for topic, msg, t in rosbag.Bag(value):\n",
    "        if topic=='/first':\n",
    "            # allfor topic, msg, t in rosbag.Bag(input_bags[00]):\n",
    "            intensities_f.append(msg.intensities)\n",
    "            ranges_f.append(msg.ranges)\n",
    "        if topic=='/last':\n",
    "            # allfor topic, msg, t in rosbag.Bag(input_bags[00]):\n",
    "            intensities_s.append(msg.intensities)\n",
    "            ranges_s.append(msg.ranges)\n",
    "            \n",
    "    idata_f = np.asarray(intensities_f)  # change a list of lists into an array \n",
    "    idata_f = np.mean(idata_f,axis=0)\n",
    "    #idata_std_f[key] = np.std(idata[key],axis=0)\n",
    "    rdata_f = np.asarray(ranges_f)\n",
    "    rdata_f = np.mean(rdata_f,axis=0)\n",
    "    idata_s = np.asarray(intensities_s)  \n",
    "    idata_s = np.mean(idata_s,axis=0)\n",
    "    rdata_s = np.asarray(ranges_s)\n",
    "    rdata_s = np.mean(rdata_s,axis=0)\n",
    "    scan = [theta, idata_f, rdata_f, idata_s, rdata_s]\n",
    "    scan = np.asarray(scan)\n",
    "    scans[key] = scan\n"
   ]
  },
  {
   "cell_type": "code",
   "execution_count": 116,
   "metadata": {
    "collapsed": true,
    "deletable": true,
    "editable": true
   },
   "outputs": [],
   "source": [
    "def findtheta(p,q):\n",
    "    # p: position of sensor, (x, y) and  x = 0\n",
    "    # q: position of target point, (a, b) and a = 106.5\n",
    "    x = p[0] \n",
    "    y = p[1]\n",
    "    a = q[0]\n",
    "    b = q[1]\n",
    "    theta = np.arctan2(a-x, b-y)\n",
    "    print('degree: ', np.degrees(theta))\n",
    "    return theta"
   ]
  },
  {
   "cell_type": "code",
   "execution_count": null,
   "metadata": {
    "collapsed": true,
    "deletable": true,
    "editable": true
   },
   "outputs": [],
   "source": []
  },
  {
   "cell_type": "code",
   "execution_count": 120,
   "metadata": {
    "collapsed": false,
    "deletable": true,
    "editable": true
   },
   "outputs": [
    {
     "name": "stdout",
     "output_type": "stream",
     "text": [
      "0.962227513235\n"
     ]
    },
    {
     "data": {
      "text/plain": [
       "-135.00000034134851"
      ]
     },
     "execution_count": 120,
     "metadata": {},
     "output_type": "execute_result"
    }
   ],
   "source": [
    "print(scans[150][2,4])\n",
    "np.degrees(angle_min)"
   ]
  },
  {
   "cell_type": "code",
   "execution_count": 5,
   "metadata": {
    "collapsed": false,
    "deletable": true,
    "editable": true
   },
   "outputs": [
    {
     "ename": "NameError",
     "evalue": "name 'input_bag' is not defined",
     "output_type": "error",
     "traceback": [
      "\u001b[0;31m---------------------------------------------------------------------------\u001b[0m",
      "\u001b[0;31mNameError\u001b[0m                                 Traceback (most recent call last)",
      "\u001b[0;32m<ipython-input-5-fefcad410667>\u001b[0m in \u001b[0;36m<module>\u001b[0;34m()\u001b[0m\n\u001b[1;32m      2\u001b[0m \u001b[0;34m\u001b[0m\u001b[0m\n\u001b[1;32m      3\u001b[0m \u001b[0mfile_name\u001b[0m\u001b[0;34m=\u001b[0m\u001b[0;34m'GreyDoor50cm90deg10s'\u001b[0m\u001b[0;34m\u001b[0m\u001b[0m\n\u001b[0;32m----> 4\u001b[0;31m \u001b[0minfo_dict\u001b[0m \u001b[0;34m=\u001b[0m \u001b[0myaml\u001b[0m\u001b[0;34m.\u001b[0m\u001b[0mload\u001b[0m\u001b[0;34m(\u001b[0m\u001b[0mrosbag\u001b[0m\u001b[0;34m.\u001b[0m\u001b[0mbag\u001b[0m\u001b[0;34m.\u001b[0m\u001b[0mBag\u001b[0m\u001b[0;34m(\u001b[0m\u001b[0minput_bag\u001b[0m\u001b[0;34m[\u001b[0m\u001b[0mfile_name\u001b[0m\u001b[0;34m]\u001b[0m\u001b[0;34m,\u001b[0m \u001b[0;34m'r'\u001b[0m\u001b[0;34m)\u001b[0m\u001b[0;34m.\u001b[0m\u001b[0m_get_yaml_info\u001b[0m\u001b[0;34m(\u001b[0m\u001b[0;34m)\u001b[0m\u001b[0;34m)\u001b[0m\u001b[0;34m\u001b[0m\u001b[0m\n\u001b[0m\u001b[1;32m      5\u001b[0m \u001b[0;32mprint\u001b[0m\u001b[0;34m(\u001b[0m\u001b[0;34m'start    \\t: '\u001b[0m\u001b[0;34m+\u001b[0m\u001b[0mstr\u001b[0m\u001b[0;34m(\u001b[0m\u001b[0minfo_dict\u001b[0m\u001b[0;34m[\u001b[0m\u001b[0;34m'start'\u001b[0m\u001b[0;34m]\u001b[0m\u001b[0;34m)\u001b[0m\u001b[0;34m)\u001b[0m\u001b[0;34m\u001b[0m\u001b[0m\n\u001b[1;32m      6\u001b[0m \u001b[0;32mprint\u001b[0m\u001b[0;34m(\u001b[0m\u001b[0;34m'end      \\t: '\u001b[0m\u001b[0;34m+\u001b[0m\u001b[0mstr\u001b[0m\u001b[0;34m(\u001b[0m\u001b[0minfo_dict\u001b[0m\u001b[0;34m[\u001b[0m\u001b[0;34m'end'\u001b[0m\u001b[0;34m]\u001b[0m\u001b[0;34m)\u001b[0m\u001b[0;34m)\u001b[0m\u001b[0;34m\u001b[0m\u001b[0m\n",
      "\u001b[0;31mNameError\u001b[0m: name 'input_bag' is not defined"
     ]
    }
   ],
   "source": [
    "#Print Basic Bag info\n",
    "\n",
    "file_name='GreyDoor50cm90deg10s'\n",
    "info_dict = yaml.load(rosbag.bag.Bag(input_bag[file_name], 'r')._get_yaml_info())\n",
    "print('start    \\t: '+str(info_dict['start']))\n",
    "print('end      \\t: '+str(info_dict['end']))\n",
    "print('messages \\t: '+str(info_dict['messages']))\n",
    "topics = info_dict['topics']\n",
    "print('(#messages) \\ttopic')\n",
    "for topic in topics:\n",
    "    print('  ('+str(topic['messages'])+')    \\t'+topic['topic'])"
   ]
  },
  {
   "cell_type": "markdown",
   "metadata": {
    "collapsed": false,
    "deletable": true,
    "editable": true
   },
   "source": [
    "f = open('/home/renato/Desktop/1007_slope.txt', 'w')"
   ]
  },
  {
   "cell_type": "code",
   "execution_count": 6,
   "metadata": {
    "collapsed": false,
    "deletable": true,
    "editable": true
   },
   "outputs": [],
   "source": [
    "# X-Y plot, Intensities-Time, position=0\n",
    "\n",
    "plt.figure(4)\n",
    "plt.subplot(211)\n",
    "for key, value in idata.iteritems():\n",
    "    t = np.arange(idata[key].shape[0])\n",
    "    plt.plot(t,idata[key][:,0]) \n",
    "# get the first row or colum: http://stackoverflow.com/questions/4455076/numpy-access-an-array-by-column\n",
    "plt.ylabel('Intensities')\n",
    "plt.ylim([0,5000])\n",
    "plt.title('The change of intensity value along time')\n",
    "\n",
    "plt.subplot(212)\n",
    "for key, value in rdata.iteritems():\n",
    "    t = np.arange(rdata[key].shape[0])\n",
    "    plt.plot(t,rdata[key][:,0]) \n",
    "plt.xlabel('Time/ Scan number')\n",
    "plt.ylabel('Ranges')\n",
    "plt.ylim([0,1.0])\n",
    "plt.title('The change of range value along time')\n",
    "\n",
    "plt.show()"
   ]
  },
  {
   "cell_type": "code",
   "execution_count": 7,
   "metadata": {
    "collapsed": false,
    "deletable": true,
    "editable": true,
    "scrolled": false
   },
   "outputs": [
    {
     "name": "stdout",
     "output_type": "stream",
     "text": [
      "[]\n"
     ]
    },
    {
     "name": "stderr",
     "output_type": "stream",
     "text": [
      "/usr/lib/python2.7/dist-packages/matplotlib/axes/_axes.py:519: UserWarning: No labelled objects found. Use label='...' kwarg on individual plots.\n",
      "  warnings.warn(\"No labelled objects found. \"\n"
     ]
    },
    {
     "ename": "AttributeError",
     "evalue": "'NoneType' object has no attribute 'get_texts'",
     "output_type": "error",
     "traceback": [
      "\u001b[0;31m---------------------------------------------------------------------------\u001b[0m",
      "\u001b[0;31mAttributeError\u001b[0m                            Traceback (most recent call last)",
      "\u001b[0;32m<ipython-input-7-c06fa5f8b070>\u001b[0m in \u001b[0;36m<module>\u001b[0;34m()\u001b[0m\n\u001b[1;32m     26\u001b[0m \u001b[0;31m#PlotFor('50cm90deg10s')\u001b[0m\u001b[0;34m\u001b[0m\u001b[0;34m\u001b[0m\u001b[0m\n\u001b[1;32m     27\u001b[0m \u001b[0;31m#PlotFor('100cm90deg10s')\u001b[0m\u001b[0;34m\u001b[0m\u001b[0;34m\u001b[0m\u001b[0m\n\u001b[0;32m---> 28\u001b[0;31m \u001b[0mPlotFor\u001b[0m\u001b[0;34m(\u001b[0m\u001b[0;34m'NetGlass'\u001b[0m\u001b[0;34m)\u001b[0m\u001b[0;34m\u001b[0m\u001b[0m\n\u001b[0m\u001b[1;32m     29\u001b[0m \u001b[0;31m#PlotFor('GreyDoor50cm90deg')\u001b[0m\u001b[0;34m\u001b[0m\u001b[0;34m\u001b[0m\u001b[0m\n",
      "\u001b[0;32m<ipython-input-7-c06fa5f8b070>\u001b[0m in \u001b[0;36mPlotFor\u001b[0;34m(s)\u001b[0m\n\u001b[1;32m     14\u001b[0m         \u001b[0;31m# Set the fontsize\u001b[0m\u001b[0;34m\u001b[0m\u001b[0;34m\u001b[0m\u001b[0m\n\u001b[1;32m     15\u001b[0m     \u001b[0mlegend\u001b[0m\u001b[0;34m=\u001b[0m\u001b[0mplt\u001b[0m\u001b[0;34m.\u001b[0m\u001b[0mlegend\u001b[0m\u001b[0;34m(\u001b[0m\u001b[0mloc\u001b[0m\u001b[0;34m=\u001b[0m\u001b[0;34m'upper right'\u001b[0m\u001b[0;34m,\u001b[0m \u001b[0mshadow\u001b[0m\u001b[0;34m=\u001b[0m\u001b[0mTrue\u001b[0m\u001b[0;34m)\u001b[0m\u001b[0;34m\u001b[0m\u001b[0m\n\u001b[0;32m---> 16\u001b[0;31m     \u001b[0;32mfor\u001b[0m \u001b[0mlabel\u001b[0m \u001b[0;32min\u001b[0m \u001b[0mlegend\u001b[0m\u001b[0;34m.\u001b[0m\u001b[0mget_texts\u001b[0m\u001b[0;34m(\u001b[0m\u001b[0;34m)\u001b[0m\u001b[0;34m:\u001b[0m\u001b[0;34m\u001b[0m\u001b[0m\n\u001b[0m\u001b[1;32m     17\u001b[0m         \u001b[0mlabel\u001b[0m\u001b[0;34m.\u001b[0m\u001b[0mset_fontsize\u001b[0m\u001b[0;34m(\u001b[0m\u001b[0;34m'large'\u001b[0m\u001b[0;34m)\u001b[0m\u001b[0;34m\u001b[0m\u001b[0m\n\u001b[1;32m     18\u001b[0m     \u001b[0;32mfor\u001b[0m \u001b[0mlabel\u001b[0m \u001b[0;32min\u001b[0m \u001b[0mlegend\u001b[0m\u001b[0;34m.\u001b[0m\u001b[0mget_lines\u001b[0m\u001b[0;34m(\u001b[0m\u001b[0;34m)\u001b[0m\u001b[0;34m:\u001b[0m\u001b[0;34m\u001b[0m\u001b[0m\n",
      "\u001b[0;31mAttributeError\u001b[0m: 'NoneType' object has no attribute 'get_texts'"
     ]
    }
   ],
   "source": [
    "# Fill between plot, data mean and standard deviation \n",
    "\n",
    "\n",
    "def PlotFor(s):\n",
    "    regex=re.compile('.*(%s).*' %s)\n",
    "    g1=[m.group(0) for l in names for m in [regex.search(l)] if m]\n",
    "    g1=sorted(g1, key= lambda x: (re.search('Glass', x),re.search('Door',x)))\n",
    "    print(g1)\n",
    "\n",
    "    plt.figure()\n",
    "    for key in g1:\n",
    "        plt.plot(theta,idata_mean[key],label=key[:-4]) \n",
    "        plt.fill_between(theta,idata_mean[key]-idata_std[key],idata_mean[key]+idata_std[key],alpha=0.3)\n",
    "        # Set the fontsize   \n",
    "    legend=plt.legend(loc='upper right', shadow=True)\n",
    "    for label in legend.get_texts():\n",
    "        label.set_fontsize('large')\n",
    "    for label in legend.get_lines():\n",
    "        label.set_linewidth(1.5) \n",
    "    plt.xlabel('Scan Angles')\n",
    "    plt.ylabel('Intensities')\n",
    "    plt.xlim([-40,40])\n",
    "    plt.ylim([0,6000])\n",
    "    plt.title('Mean Value and Shaking Range of Intensities at 50cm90deg')\n",
    "\n",
    "#PlotFor('50cm90deg10s')\n",
    "#PlotFor('100cm90deg10s')\n",
    "PlotFor('NetGlass')\n",
    "#PlotFor('GreyDoor50cm90deg')"
   ]
  },
  {
   "cell_type": "code",
   "execution_count": 8,
   "metadata": {
    "collapsed": false,
    "deletable": true,
    "editable": true
   },
   "outputs": [
    {
     "ename": "NameError",
     "evalue": "name 'theta' is not defined",
     "output_type": "error",
     "traceback": [
      "\u001b[0;31m---------------------------------------------------------------------------\u001b[0m",
      "\u001b[0;31mNameError\u001b[0m                                 Traceback (most recent call last)",
      "\u001b[0;32m<ipython-input-8-bedb776da90f>\u001b[0m in \u001b[0;36m<module>\u001b[0;34m()\u001b[0m\n\u001b[1;32m      4\u001b[0m \u001b[0mplt\u001b[0m\u001b[0;34m.\u001b[0m\u001b[0msubplot\u001b[0m\u001b[0;34m(\u001b[0m\u001b[0;36m211\u001b[0m\u001b[0;34m)\u001b[0m\u001b[0;34m\u001b[0m\u001b[0m\n\u001b[1;32m      5\u001b[0m \u001b[0mplt\u001b[0m\u001b[0;34m.\u001b[0m\u001b[0mylabel\u001b[0m\u001b[0;34m(\u001b[0m\u001b[0;34m'Intensities'\u001b[0m\u001b[0;34m)\u001b[0m\u001b[0;34m\u001b[0m\u001b[0m\n\u001b[0;32m----> 6\u001b[0;31m \u001b[0mplt\u001b[0m\u001b[0;34m.\u001b[0m\u001b[0mplot\u001b[0m\u001b[0;34m(\u001b[0m\u001b[0mtheta\u001b[0m\u001b[0;34m,\u001b[0m \u001b[0midata_GD5090_mean\u001b[0m\u001b[0;34m)\u001b[0m\u001b[0;34m\u001b[0m\u001b[0m\n\u001b[0m\u001b[1;32m      7\u001b[0m \u001b[0mplt\u001b[0m\u001b[0;34m.\u001b[0m\u001b[0mplot\u001b[0m\u001b[0;34m(\u001b[0m\u001b[0mtheta\u001b[0m\u001b[0;34m-\u001b[0m\u001b[0;36m0.52359877559829882\u001b[0m\u001b[0;34m,\u001b[0m \u001b[0midata_GD5060_mean\u001b[0m\u001b[0;34m)\u001b[0m\u001b[0;34m\u001b[0m\u001b[0m\n\u001b[1;32m      8\u001b[0m \u001b[0mplt\u001b[0m\u001b[0;34m.\u001b[0m\u001b[0mxlim\u001b[0m\u001b[0;34m(\u001b[0m\u001b[0;34m[\u001b[0m\u001b[0;34m-\u001b[0m\u001b[0;36m0.9\u001b[0m\u001b[0;34m,\u001b[0m\u001b[0;36m0.9\u001b[0m\u001b[0;34m]\u001b[0m\u001b[0;34m)\u001b[0m\u001b[0;34m\u001b[0m\u001b[0m\n",
      "\u001b[0;31mNameError\u001b[0m: name 'theta' is not defined"
     ]
    }
   ],
   "source": [
    "# X-Y plot, intensities/ranges-scan angles, Mean value of all time\n",
    "\n",
    "plt.figure(1)\n",
    "plt.subplot(211)\n",
    "plt.ylabel('Intensities')\n",
    "plt.plot(theta, idata_GD5090_mean)\n",
    "plt.plot(theta-0.52359877559829882, idata_GD5060_mean)\n",
    "plt.xlim([-0.9,0.9])\n",
    "plt.title('The relationship of intensities and scan angles')\n",
    "        \n",
    "plt.subplot(212)\n",
    "plt.plot(theta, rdata_GD5090_mean)\n",
    "plt.plot(theta, rdata_GD5060_mean)\n",
    "plt.xlabel('Scan angles')\n",
    "plt.xlim([-0.9,0.9])\n",
    "plt.ylabel('Ranges')\n",
    "plt.title('The relationship of ranges and scan angles')"
   ]
  },
  {
   "cell_type": "code",
   "execution_count": 9,
   "metadata": {
    "collapsed": false,
    "deletable": true,
    "editable": true
   },
   "outputs": [
    {
     "name": "stdout",
     "output_type": "stream",
     "text": [
      "ExperimentMean      \n"
     ]
    }
   ],
   "source": [
    "#calculate the mean and standard deviation of all data\n",
    "print('{:10}{:10}'.format('Experiment','Mean','Std'))\n",
    "for key, value in idata_mean.iteritems():\n",
    "    print(np.mean(idata),np.std(idata))\n",
    "    print(np.mean(rdata),np.std(rdata))"
   ]
  },
  {
   "cell_type": "code",
   "execution_count": 10,
   "metadata": {
    "collapsed": false,
    "deletable": true,
    "editable": true
   },
   "outputs": [
    {
     "ename": "AttributeError",
     "evalue": "'dict' object has no attribute 'shape'",
     "output_type": "error",
     "traceback": [
      "\u001b[0;31m---------------------------------------------------------------------------\u001b[0m",
      "\u001b[0;31mAttributeError\u001b[0m                            Traceback (most recent call last)",
      "\u001b[0;32m<ipython-input-10-5de2a2e05b28>\u001b[0m in \u001b[0;36m<module>\u001b[0;34m()\u001b[0m\n\u001b[1;32m      1\u001b[0m \u001b[0;31m# find the shape of a array\u001b[0m\u001b[0;34m\u001b[0m\u001b[0;34m\u001b[0m\u001b[0m\n\u001b[0;32m----> 2\u001b[0;31m \u001b[0midata\u001b[0m\u001b[0;34m.\u001b[0m\u001b[0mshape\u001b[0m\u001b[0;34m[\u001b[0m\u001b[0;36m0\u001b[0m\u001b[0;34m]\u001b[0m\u001b[0;34m\u001b[0m\u001b[0m\n\u001b[0m",
      "\u001b[0;31mAttributeError\u001b[0m: 'dict' object has no attribute 'shape'"
     ]
    }
   ],
   "source": [
    "# find the shape of a array\n",
    "idata.shape[0]"
   ]
  },
  {
   "cell_type": "code",
   "execution_count": 11,
   "metadata": {
    "collapsed": false,
    "deletable": true,
    "editable": true
   },
   "outputs": [
    {
     "ename": "AttributeError",
     "evalue": "'dict' object has no attribute 'T'",
     "output_type": "error",
     "traceback": [
      "\u001b[0;31m---------------------------------------------------------------------------\u001b[0m",
      "\u001b[0;31mAttributeError\u001b[0m                            Traceback (most recent call last)",
      "\u001b[0;32m<ipython-input-11-7030691ff7ee>\u001b[0m in \u001b[0;36m<module>\u001b[0;34m()\u001b[0m\n\u001b[0;32m----> 1\u001b[0;31m \u001b[0mplt\u001b[0m\u001b[0;34m.\u001b[0m\u001b[0mplot\u001b[0m\u001b[0;34m(\u001b[0m\u001b[0midata\u001b[0m\u001b[0;34m.\u001b[0m\u001b[0mT\u001b[0m\u001b[0;34m)\u001b[0m\u001b[0;34m\u001b[0m\u001b[0m\n\u001b[0m",
      "\u001b[0;31mAttributeError\u001b[0m: 'dict' object has no attribute 'T'"
     ]
    }
   ],
   "source": [
    "plt.plot(idata.T)"
   ]
  },
  {
   "cell_type": "code",
   "execution_count": 12,
   "metadata": {
    "collapsed": false,
    "deletable": true,
    "editable": true,
    "scrolled": false
   },
   "outputs": [
    {
     "ename": "NameError",
     "evalue": "name 'input_bag' is not defined",
     "output_type": "error",
     "traceback": [
      "\u001b[0;31m---------------------------------------------------------------------------\u001b[0m",
      "\u001b[0;31mNameError\u001b[0m                                 Traceback (most recent call last)",
      "\u001b[0;32m<ipython-input-12-d73d47f89608>\u001b[0m in \u001b[0;36m<module>\u001b[0;34m()\u001b[0m\n\u001b[1;32m      3\u001b[0m \u001b[0;34m\u001b[0m\u001b[0m\n\u001b[1;32m      4\u001b[0m \u001b[0;34m\u001b[0m\u001b[0m\n\u001b[0;32m----> 5\u001b[0;31m \u001b[0;32mfor\u001b[0m \u001b[0mtopic\u001b[0m\u001b[0;34m,\u001b[0m \u001b[0mmsg\u001b[0m\u001b[0;34m,\u001b[0m \u001b[0mt\u001b[0m \u001b[0;32min\u001b[0m \u001b[0mrosbag\u001b[0m\u001b[0;34m.\u001b[0m\u001b[0mbag\u001b[0m\u001b[0;34m.\u001b[0m\u001b[0mBag\u001b[0m\u001b[0;34m(\u001b[0m\u001b[0minput_bag\u001b[0m\u001b[0;34m)\u001b[0m\u001b[0;34m:\u001b[0m\u001b[0;34m\u001b[0m\u001b[0m\n\u001b[0m\u001b[1;32m      6\u001b[0m     \u001b[0;32mif\u001b[0m \u001b[0mtopic\u001b[0m\u001b[0;34m==\u001b[0m\u001b[0;34m'/scan'\u001b[0m \u001b[0;32mand\u001b[0m \u001b[0msee\u001b[0m\u001b[0;34m==\u001b[0m\u001b[0;36m1\u001b[0m\u001b[0;34m:\u001b[0m\u001b[0;34m\u001b[0m\u001b[0m\n\u001b[1;32m      7\u001b[0m         \u001b[0msee\u001b[0m \u001b[0;34m=\u001b[0m\u001b[0;36m0\u001b[0m\u001b[0;34m\u001b[0m\u001b[0m\n",
      "\u001b[0;31mNameError\u001b[0m: name 'input_bag' is not defined"
     ]
    }
   ],
   "source": [
    "### Draw the polar plot of ranges/intensities and angles at time 0\n",
    "see = 1\n",
    "\n",
    "\n",
    "for topic, msg, t in rosbag.bag.Bag(input_bag):\n",
    "    if topic=='/scan' and see==1:\n",
    "        see =0\n",
    "        ri = msg.intensities\n",
    "        rr = msg.ranges\n",
    "        plt.ylabel('Intensities')\n",
    "        \n",
    "        \n",
    "        plt.figure(1)\n",
    "        ax = plt.subplot(111, projection='polar')\n",
    "        ax.plot(theta, rr, color='r', linewidth=1)\n",
    "        ax.set_rmax(5.0)\n",
    "        ax.grid(True)\n",
    "        ax.set_title(\"Range-Angle Relationship\", va='bottom')\n",
    "        \n",
    "        plt.figure(2)\n",
    "        bx = plt.subplot(111, projection='polar')\n",
    "        bx.plot(theta, ri, color='b', linewidth=1)\n",
    "        bx.set_rmax(5000.0)\n",
    "        bx.grid(True)\n",
    "        bx.set_title(\"Intensities-Angle Relationship\", va='bottom')\n",
    "        \n",
    "        plt.figure(3)\n",
    "        cx = plt.subplot(222)\n",
    "        cx.plot(rr,ri)\n",
    "        plt.ylabel('Intensities')\n",
    "        plt.xlabel('Ranges')\n",
    "        \n",
    "        plt.show()\n",
    "        \n",
    "    #else:\n",
    "        #see += 1"
   ]
  },
  {
   "cell_type": "code",
   "execution_count": 13,
   "metadata": {
    "collapsed": false,
    "deletable": true,
    "editable": true
   },
   "outputs": [
    {
     "data": {
      "text/plain": [
       "3.1415926535897931"
      ]
     },
     "execution_count": 13,
     "metadata": {},
     "output_type": "execute_result"
    }
   ],
   "source": [
    "# Calculator\n",
    "np.degrees(np.arctan(0.3))\n",
    "50*np.tan(np.radians(60))\n",
    "np.radians(180)"
   ]
  },
  {
   "cell_type": "code",
   "execution_count": 14,
   "metadata": {
    "collapsed": false,
    "deletable": true,
    "editable": true
   },
   "outputs": [],
   "source": [
    "# example of drawing a x-y plot \n",
    "t = np.arange(0.0, 2.0, 0.01)\n",
    "s1 = np.sin(2*np.pi*t)\n",
    "s2 = np.sin(4*np.pi*t)\n",
    "\n",
    "plt.figure(1)\n",
    "plt.subplot(211)\n",
    "plt.plot(t, s1)\n",
    "plt.subplot(212)\n",
    "plt.plot(t, 2*s1)\n",
    "\n",
    "#plt.figure(2)\n",
    "#plt.plot(t, s2)\n",
    "\n",
    "# add a point figure to the first sub plot\n",
    "#plt.figure(1)\n",
    "#plt.subplot(211)\n",
    "#plt.plot(t, s2, 'gs')\n",
    "#ax = plt.gca()\n",
    "#ax.set_xticklabels([])\n",
    "\n",
    "plt.show()"
   ]
  },
  {
   "cell_type": "code",
   "execution_count": 15,
   "metadata": {
    "collapsed": false,
    "deletable": true,
    "editable": true,
    "scrolled": true
   },
   "outputs": [
    {
     "ename": "NameError",
     "evalue": "name 'input_bag' is not defined",
     "output_type": "error",
     "traceback": [
      "\u001b[0;31m---------------------------------------------------------------------------\u001b[0m",
      "\u001b[0;31mNameError\u001b[0m                                 Traceback (most recent call last)",
      "\u001b[0;32m<ipython-input-15-1683c99b37ce>\u001b[0m in \u001b[0;36m<module>\u001b[0;34m()\u001b[0m\n\u001b[1;32m      1\u001b[0m \u001b[0;31m# test on how to find the attributes of a class\u001b[0m\u001b[0;34m\u001b[0m\u001b[0;34m\u001b[0m\u001b[0m\n\u001b[0;32m----> 2\u001b[0;31m \u001b[0mT\u001b[0m\u001b[0;34m=\u001b[0m\u001b[0mtype\u001b[0m\u001b[0;34m(\u001b[0m\u001b[0mrosbag\u001b[0m\u001b[0;34m.\u001b[0m\u001b[0mBag\u001b[0m\u001b[0;34m(\u001b[0m\u001b[0minput_bag\u001b[0m\u001b[0;34m)\u001b[0m\u001b[0;34m)\u001b[0m\u001b[0;34m\u001b[0m\u001b[0m\n\u001b[0m\u001b[1;32m      3\u001b[0m \u001b[0;32mprint\u001b[0m\u001b[0;34m(\u001b[0m\u001b[0mT\u001b[0m\u001b[0;34m)\u001b[0m\u001b[0;34m\u001b[0m\u001b[0m\n\u001b[1;32m      4\u001b[0m \u001b[0mT\u001b[0m\u001b[0;34m.\u001b[0m\u001b[0m__dict__\u001b[0m\u001b[0;34m\u001b[0m\u001b[0m\n\u001b[1;32m      5\u001b[0m \u001b[0mdir\u001b[0m\u001b[0;34m(\u001b[0m\u001b[0mT\u001b[0m\u001b[0;34m)\u001b[0m\u001b[0;34m\u001b[0m\u001b[0m\n",
      "\u001b[0;31mNameError\u001b[0m: name 'input_bag' is not defined"
     ]
    }
   ],
   "source": [
    "# test on how to find the attributes of a class\n",
    "T=type(rosbag.Bag(input_bag))\n",
    "print(T)\n",
    "T.__dict__\n",
    "dir(T)"
   ]
  },
  {
   "cell_type": "code",
   "execution_count": null,
   "metadata": {
    "collapsed": true,
    "deletable": true,
    "editable": true
   },
   "outputs": [],
   "source": []
  },
  {
   "cell_type": "code",
   "execution_count": null,
   "metadata": {
    "collapsed": true,
    "deletable": true,
    "editable": true
   },
   "outputs": [],
   "source": []
  },
  {
   "cell_type": "code",
   "execution_count": null,
   "metadata": {
    "collapsed": true,
    "deletable": true,
    "editable": true
   },
   "outputs": [],
   "source": []
  }
 ],
 "metadata": {
  "anaconda-cloud": {},
  "kernelspec": {
   "display_name": "Python 2",
   "language": "python",
   "name": "python2"
  },
  "language_info": {
   "codemirror_mode": {
    "name": "ipython",
    "version": 2
   },
   "file_extension": ".py",
   "mimetype": "text/x-python",
   "name": "python",
   "nbconvert_exporter": "python",
   "pygments_lexer": "ipython2",
   "version": "2.7.12"
  }
 },
 "nbformat": 4,
 "nbformat_minor": 0
}
